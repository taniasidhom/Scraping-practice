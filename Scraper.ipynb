{
 "cells": [
  {
   "cell_type": "code",
   "execution_count": 33,
   "metadata": {},
   "outputs": [
    {
     "data": {
      "text/plain": [
       "<Response [200]>"
      ]
     },
     "execution_count": 33,
     "metadata": {},
     "output_type": "execute_result"
    }
   ],
   "source": [
    "import requests\n",
    "import urllib.request\n",
    "from bs4 import BeautifulSoup\n",
    "import pandas as pd\n",
    "from pandas import ExcelWriter\n",
    "\n",
    "url = 'http://www.tides.gc.ca/C&A/network_means-eng.html#'\n",
    "response = requests.get(url)\n",
    "\n",
    "# checks if access was successful \n",
    "response"
   ]
  },
  {
   "cell_type": "code",
   "execution_count": 41,
   "metadata": {},
   "outputs": [],
   "source": [
    "soup = BeautifulSoup(response.text, \"html.parser\")\n",
    "mean_tables = soup.findAll('table', {'class':'span-8'})\n",
    "alltime_tables = soup.findAll('table', {'title':'All-Time'})\n",
    "montreal_mean_table = soup.find('table', {'title':'Montreal Harbour monthly mean water levels in metres referred to IGLD 1985'})"
   ]
  },
  {
   "cell_type": "code",
   "execution_count": 42,
   "metadata": {},
   "outputs": [],
   "source": [
    "def rowsDF(table):\n",
    "    \n",
    "    row_vals = []\n",
    "    row_links = table.findAll('tr')\n",
    "    \n",
    "    for tr in row_links:\n",
    "        tds = tr.findAll('td')\n",
    "        row_vals.append(tds)\n",
    "    \n",
    "    for i in range(len(row_vals)):\n",
    "        for j in range(len(row_vals[i])):\n",
    "            row_vals[i][j] = row_vals[i][j].text\n",
    "        \n",
    "    data_set = pd.DataFrame(row_vals)\n",
    "    return data_set\n",
    "\n",
    "def row_labels(table):\n",
    "    label_links = table.findAll('th')\n",
    "    \n",
    "    labels = []\n",
    "    for i in range(len(label_links)): \n",
    "        label_links[i] = label_links[i].text\n",
    "        labels.append(label_links[i])\n",
    "        \n",
    "    return labels"
   ]
  },
  {
   "cell_type": "code",
   "execution_count": 43,
   "metadata": {
    "scrolled": true
   },
   "outputs": [],
   "source": [
    "# add labels for the data frame in each lake\n",
    "\n",
    "def meanDF(table):\n",
    "    \n",
    "    data_frame = rowsDF(table)\n",
    "    data_frame.columns = row_labels(table)\n",
    "    data_frame = data_frame.dropna()\n",
    "    \n",
    "    return data_frame\n",
    "\n",
    "def alltimeDF(table):\n",
    "    \n",
    "    data_frame = rowsDF(table)\n",
    "    data_frame.index = row_labels(table)\n",
    "    \n",
    "    return data_frame"
   ]
  },
  {
   "cell_type": "code",
   "execution_count": 44,
   "metadata": {
    "scrolled": true
   },
   "outputs": [],
   "source": [
    "# create list of dataframes for each data set\n",
    "\n",
    "data_set1 = []\n",
    "for i in range(len(mean_tables)):\n",
    "    data_set1.append(meanDF(mean_tables[i]))\n",
    "data_set1.append(meanDF(montreal_mean_table)) \n",
    "\n",
    "data_set2 = []\n",
    "for i in range(len(alltime_tables)):\n",
    "    data_set2.append(alltimeDF(alltime_tables[i]))\n",
    "    "
   ]
  },
  {
   "cell_type": "code",
   "execution_count": 50,
   "metadata": {},
   "outputs": [],
   "source": [
    "path1 = r'C:\\Users\\tania\\Documents\\TDW Tech Test\\dataset1.xlsx'\n",
    "path2 = r'C:\\Users\\tania\\Documents\\TDW Tech Test\\dataset2.xlsx'\n",
    "\n",
    "def save_file(data_set, path, boolean):\n",
    "    with ExcelWriter(path) as writer:\n",
    "        for n, df in enumerate(data_set):\n",
    "            df.to_excel(writer,'sheet%s' % n, index=boolean)\n",
    "        writer.save()\n",
    "        \n",
    "save_file(data_set1, path1, False)\n",
    "save_file(data_set2, path2, True)"
   ]
  }
 ],
 "metadata": {
  "kernelspec": {
   "display_name": "Python 3",
   "language": "python",
   "name": "python3"
  },
  "language_info": {
   "codemirror_mode": {
    "name": "ipython",
    "version": 3
   },
   "file_extension": ".py",
   "mimetype": "text/x-python",
   "name": "python",
   "nbconvert_exporter": "python",
   "pygments_lexer": "ipython3",
   "version": "3.7.0"
  }
 },
 "nbformat": 4,
 "nbformat_minor": 2
}
